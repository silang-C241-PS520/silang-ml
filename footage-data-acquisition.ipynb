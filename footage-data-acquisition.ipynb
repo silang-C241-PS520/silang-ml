{
 "cells": [
  {
   "cell_type": "markdown",
   "metadata": {},
   "source": [
    "## Step 1: Import Libraries"
   ]
  },
  {
   "cell_type": "code",
   "execution_count": 5,
   "metadata": {},
   "outputs": [],
   "source": [
    "import cv2\n",
    "import os\n",
    "import time\n",
    "from threading import Thread"
   ]
  },
  {
   "cell_type": "markdown",
   "metadata": {},
   "source": [
    "## Step 3: Process Video Frames"
   ]
  },
  {
   "cell_type": "code",
   "execution_count": 6,
   "metadata": {},
   "outputs": [],
   "source": [
    "# Function to run the countdown in a separate thread\n",
    "def countdown_thread(countdown_dict):\n",
    "    while countdown_dict['value'] > 0:\n",
    "        time.sleep(1)\n",
    "        countdown_dict['value'] -= 1"
   ]
  },
  {
   "cell_type": "code",
   "execution_count": 7,
   "metadata": {},
   "outputs": [],
   "source": [
    "def capture_video(category, num_recordings, output_dir, video_url):\n",
    "\n",
    "    tutorial_video = cv2.VideoCapture(video_url)\n",
    "    while True:\n",
    "        ret, frame = tutorial_video.read()\n",
    "        if not ret:\n",
    "            tutorial_video.set(cv2.CAP_PROP_POS_FRAMES, 0)\n",
    "            continue\n",
    "        cv2.putText(frame, 'Press C to continue', (10, 30), cv2.FONT_HERSHEY_SIMPLEX, 1, (0, 255, 0), 2, cv2.LINE_AA)\n",
    "        cv2.imshow('Tutorial', frame)\n",
    "        if cv2.waitKey(1) & 0xFF == ord('c'):\n",
    "            break\n",
    "    tutorial_video.release()\n",
    "    cv2.destroyWindow('Tutorial')\n",
    "\n",
    "    cap = cv2.VideoCapture(1)\n",
    "    if not cap.isOpened():\n",
    "        print(\"Error: Could not open webcam.\")\n",
    "        return\n",
    "    \n",
    "    # retrieve properties of the capture object\n",
    "    cap_width = cap.get(cv2.CAP_PROP_FRAME_WIDTH)\n",
    "    cap_height = cap.get(cv2.CAP_PROP_FRAME_HEIGHT)\n",
    "    cap_fps = cap.get(cv2.CAP_PROP_FPS)\n",
    "    print('* Capture width:', cap_width)\n",
    "    print('* Capture height:', cap_height)\n",
    "    print('* Capture FPS:', cap_fps)\n",
    "    \n",
    "    # Create output directory if it doesn't exist\n",
    "    if not os.path.exists(output_dir):\n",
    "        os.makedirs(output_dir)\n",
    "    \n",
    "    recording = False\n",
    "    recording_counter = 0\n",
    "    countdown = 2\n",
    "    countdown_dict = {'value': countdown}  # Countdown before starting recording\n",
    "    recording_frame_counter = 0\n",
    "    \n",
    "    while recording_counter < num_recordings:\n",
    "        ret, frame = cap.read()\n",
    "        \n",
    "        # Create a separate frame for display purposes\n",
    "        display_frame = frame.copy()\n",
    "        display_frame = cv2.flip(display_frame, 1)\n",
    "\n",
    "        cv2.putText(display_frame, f'Count: {recording_counter}', (10, 110), cv2.FONT_HERSHEY_SIMPLEX, 1, (255, 221, 0), 2, cv2.LINE_AA)\n",
    "        cv2.putText(display_frame, f'Frame: {recording_frame_counter}', (10, 30), cv2.FONT_HERSHEY_SIMPLEX, 1, (255, 221, 0), 2, cv2.LINE_AA)\n",
    "        if not recording:\n",
    "            if countdown_dict['value'] > 0:\n",
    "                cv2.putText(display_frame, f'Starting in {countdown_dict[\"value\"]}', (10, 70), cv2.FONT_HERSHEY_SIMPLEX, 1, (0, 255, 0), 2, cv2.LINE_AA)\n",
    "                if not hasattr(capture_video, 'countdown_thread') or not capture_video.countdown_thread.is_alive():\n",
    "                    capture_video.countdown_thread = Thread(target=countdown_thread, args=(countdown_dict,))\n",
    "                    capture_video.countdown_thread.start()\n",
    "            else:\n",
    "                recording = True\n",
    "                countdown_dict['value'] = countdown\n",
    "                out = cv2.VideoWriter(os.path.join(output_dir, f'{category}_{recording_counter}.mp4'), cv2.VideoWriter_fourcc('M', 'P', '4', 'V'), 30, (640, 480))\n",
    "        else:\n",
    "            if recording_frame_counter < 30:\n",
    "                recording_frame_counter += 1\n",
    "                out.write(frame)\n",
    "                cv2.putText(display_frame, 'Recording', (10, 70), cv2.FONT_HERSHEY_SIMPLEX, 1, (0, 0, 255), 2, cv2.LINE_AA)\n",
    "            else:\n",
    "                recording = False\n",
    "                recording_counter += 1\n",
    "                recording_frame_counter = 0\n",
    "                out.release()\n",
    "        \n",
    "        cv2.imshow('Webcam', display_frame)  # Display the frame with overlays\n",
    "        \n",
    "        if cv2.waitKey(1) & 0xFF == ord('q'):\n",
    "            break\n",
    "    \n",
    "    cap.release()\n",
    "    cv2.destroyAllWindows()"
   ]
  },
  {
   "cell_type": "markdown",
   "metadata": {},
   "source": [
    "## Step 4: Main"
   ]
  },
  {
   "cell_type": "code",
   "execution_count": 8,
   "metadata": {},
   "outputs": [
    {
     "name": "stdout",
     "output_type": "stream",
     "text": [
      "Select a category:\n",
      "1. Me-\n",
      "2. Pe-\n",
      "3. Kenal\n",
      "4. Kan-\n",
      "5. Nama\n",
      "6. Saya\n",
      "7. A\n",
      "8. N\n",
      "9. S\n",
      "10. Mari\n",
      "11. Kami\n",
      "12. Tunjuk\n",
      "13. -Kan\n",
      "14. Kepada\n",
      "15. Anda\n",
      "16. Proyek\n",
      "* Capture width: 640.0\n",
      "* Capture height: 480.0\n",
      "* Capture FPS: 30.0\n"
     ]
    },
    {
     "ename": "NameError",
     "evalue": "name 'holistic' is not defined",
     "output_type": "error",
     "traceback": [
      "\u001b[1;31m---------------------------------------------------------------------------\u001b[0m",
      "\u001b[1;31mNameError\u001b[0m                                 Traceback (most recent call last)",
      "Cell \u001b[1;32mIn[8], line 27\u001b[0m\n\u001b[0;32m     23\u001b[0m     output_dir \u001b[38;5;241m=\u001b[39m \u001b[38;5;124mf\u001b[39m\u001b[38;5;124m'\u001b[39m\u001b[38;5;124mrecordings/\u001b[39m\u001b[38;5;132;01m{\u001b[39;00mselected_category\u001b[38;5;132;01m}\u001b[39;00m\u001b[38;5;124m'\u001b[39m\n\u001b[0;32m     25\u001b[0m     capture_video(selected_category, num_recordings, output_dir, selected_video_url)\n\u001b[1;32m---> 27\u001b[0m \u001b[43mholistic\u001b[49m\u001b[38;5;241m.\u001b[39mclose()\n\u001b[0;32m     28\u001b[0m \u001b[38;5;28mprint\u001b[39m(\u001b[38;5;124m\"\u001b[39m\u001b[38;5;124mRecording complete.\u001b[39m\u001b[38;5;124m\"\u001b[39m)\n",
      "\u001b[1;31mNameError\u001b[0m: name 'holistic' is not defined"
     ]
    }
   ],
   "source": [
    "# Read the categories and video URLs from the text file\n",
    "categories = []\n",
    "video_urls = []\n",
    "with open('examples/common_words_with_videos.txt', 'r') as file:\n",
    "    for line in file:\n",
    "        category, url = line.strip().split(': ')\n",
    "        categories.append(category)\n",
    "        video_urls.append(url)\n",
    "\n",
    "# User inputs\n",
    "print(\"Select a category:\")\n",
    "for i, category in enumerate(categories):\n",
    "    print(f\"{i + 1}. {category}\")\n",
    "categories_idx = input(\"Enter the number of the category: \")\n",
    "\n",
    "num_recordings = 50\n",
    "\n",
    "for category_idx in categories_idx.split(\",\"):\n",
    "    category_idx = int(category_idx) - 1\n",
    "    selected_category = categories[category_idx]\n",
    "    selected_video_url = video_urls[category_idx]\n",
    "\n",
    "    output_dir = f'data/recordings/{selected_category}'\n",
    "    \n",
    "    capture_video(selected_category, num_recordings, output_dir, selected_video_url)\n",
    "\n",
    "print(\"Recording complete.\")"
   ]
  }
 ],
 "metadata": {
  "kernelspec": {
   "display_name": "Python 3",
   "language": "python",
   "name": "python3"
  },
  "language_info": {
   "codemirror_mode": {
    "name": "ipython",
    "version": 3
   },
   "file_extension": ".py",
   "mimetype": "text/x-python",
   "name": "python",
   "nbconvert_exporter": "python",
   "pygments_lexer": "ipython3",
   "version": "3.12.2"
  }
 },
 "nbformat": 4,
 "nbformat_minor": 2
}
