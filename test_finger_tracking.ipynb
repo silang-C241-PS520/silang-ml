{
 "cells": [
  {
   "cell_type": "code",
   "execution_count": 3,
   "id": "6e2ba665-e73b-4f4e-b219-749399f2ef84",
   "metadata": {},
   "outputs": [
    {
     "data": {
      "text/plain": [
       "'Finger 1: (262, 396)'"
      ]
     },
     "metadata": {},
     "output_type": "display_data"
    }
   ],
   "source": [
    "import cv2\n",
    "import mediapipe as mp\n",
    "from IPython.display import display, clear_output\n",
    "\n",
    "def detect_index_fingers():\n",
    "    # Initialize MediaPipe Hands\n",
    "    mp_hands = mp.solutions.hands\n",
    "    hands = mp_hands.Hands(static_image_mode=False, max_num_hands=2, min_detection_confidence=0.5)\n",
    "    \n",
    "    # Open the webcam\n",
    "    cap = cv2.VideoCapture(0)\n",
    "\n",
    "    if not cap.isOpened():\n",
    "        print(\"Error: Could not open webcam.\")\n",
    "        return\n",
    "\n",
    "    while cap.isOpened():\n",
    "        ret, frame = cap.read()\n",
    "        if not ret:\n",
    "            print(\"Error: Could not read frame.\")\n",
    "            break\n",
    "\n",
    "        # Convert the BGR image to RGB\n",
    "        image_rgb = cv2.cvtColor(frame, cv2.COLOR_BGR2RGB)\n",
    "\n",
    "        # Process the image and find hands\n",
    "        results = hands.process(image_rgb)\n",
    "\n",
    "        # Initialize an empty list to collect finger information\n",
    "        fingers_info = []\n",
    "\n",
    "        if results.multi_hand_landmarks:\n",
    "            for hand_no, hand_landmarks in enumerate(results.multi_hand_landmarks):\n",
    "                # Draw landmarks for each hand\n",
    "                for idx, landmark in enumerate(hand_landmarks.landmark):\n",
    "                    # Get the index finger tip (landmark 8)\n",
    "                    if idx == mp_hands.HandLandmark.INDEX_FINGER_TIP:\n",
    "                        # Convert to pixel coordinates\n",
    "                        height, width, _ = frame.shape\n",
    "                        cX = int(landmark.x * width)\n",
    "                        cY = int(landmark.y * height)\n",
    "\n",
    "                        # Draw a circle at the index finger tip location\n",
    "                        cv2.circle(frame, (cX, cY), 10, (255, 100, 100), -1)\n",
    "\n",
    "                        # Collect coordinates with hand number\n",
    "                        finger_info = f'Finger {hand_no + 1}: ({cX}, {cY})'\n",
    "                        fingers_info.append(finger_info)\n",
    "\n",
    "                        # Display coordinates on the frame\n",
    "                        cv2.putText(frame, finger_info, \n",
    "                                    (10, 40 + (hand_no * 50)), cv2.FONT_HERSHEY_SIMPLEX, 0.6, (0, 255, 0), 2, cv2.LINE_AA)\n",
    "\n",
    "        # Display the frame\n",
    "        cv2.imshow('Index Finger Detection', frame)\n",
    "\n",
    "        # Display all collected finger information in Jupyter Notebook\n",
    "        clear_output(wait=True)\n",
    "        display(' - '.join(fingers_info))\n",
    "\n",
    "        if cv2.waitKey(1) & 0xFF == ord('q'):\n",
    "            break\n",
    "\n",
    "    cap.release()\n",
    "    cv2.destroyAllWindows()\n",
    "\n",
    "# Run the function\n",
    "detect_index_fingers()\n"
   ]
  },
  {
   "cell_type": "code",
   "execution_count": null,
   "id": "37218269-67c2-4f56-ad5a-8b305421eeb9",
   "metadata": {},
   "outputs": [],
   "source": []
  }
 ],
 "metadata": {
  "kernelspec": {
   "display_name": "Python 3 (ipykernel)",
   "language": "python",
   "name": "python3"
  },
  "language_info": {
   "codemirror_mode": {
    "name": "ipython",
    "version": 3
   },
   "file_extension": ".py",
   "mimetype": "text/x-python",
   "name": "python",
   "nbconvert_exporter": "python",
   "pygments_lexer": "ipython3",
   "version": "3.11.9"
  }
 },
 "nbformat": 4,
 "nbformat_minor": 5
}
